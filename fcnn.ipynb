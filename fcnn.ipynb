{
 "cells": [
  {
   "cell_type": "code",
   "execution_count": 2,
   "metadata": {
    "scrolled": true
   },
   "outputs": [
    {
     "name": "stdout",
     "output_type": "stream",
     "text": [
      "Found 1200 files belonging to 3 classes.\n",
      "Using 960 files for training.\n",
      "Found 1200 files belonging to 3 classes.\n",
      "Using 240 files for validation.\n"
     ]
    }
   ],
   "source": [
    "import numpy as np\n",
    "import tensorflow as tf\n",
    "import re\n",
    "import string\n",
    "import matplotlib.pyplot as plt\n",
    "\n",
    "train_raw_ds = tf.keras.preprocessing.text_dataset_from_directory(\n",
    "    directory='./data',\n",
    "    validation_split=0.2, \n",
    "    subset='training',\n",
    "    batch_size=8,\n",
    "    shuffle=True,\n",
    "    seed=123\n",
    ")\n",
    "test_raw_ds = tf.keras.preprocessing.text_dataset_from_directory(\n",
    "    directory='./data',\n",
    "    validation_split=0.2, \n",
    "    subset='validation',\n",
    "    batch_size=8,\n",
    "    shuffle=True,\n",
    "    seed=123\n",
    ")"
   ]
  },
  {
   "cell_type": "code",
   "execution_count": 3,
   "metadata": {
    "scrolled": true
   },
   "outputs": [
    {
     "name": "stdout",
     "output_type": "stream",
     "text": [
      "vocab_size: 20732\n",
      "max_tokens: 20734\n",
      "effective vocabulary size: 20734\n",
      "Vocabulary: [можете,как,можна,экран,к,5,pro,дисплей,щоб,из'...]\n"
     ]
    }
   ],
   "source": [
    "# Визначення\n",
    "#    розміру словнику (vocab_size),\n",
    "#    максимального розміру словнику (max_tokens)\n",
    "\n",
    "def standardization(input_data):\n",
    "    output = tf.strings.lower(input_data, encoding='utf-8')\n",
    "    output = tf.strings.regex_replace(output, '[%s]' % re.escape(string.punctuation), '')\n",
    "    output = tf.strings.regex_replace(output, '[%s]' % (b'\\xc2\\xa0'.decode() + b'\\xe2\\xa0\\x80'.decode()), ' ')\n",
    "    return output\n",
    "\n",
    "def analyse_dataset(raw_ds):\n",
    "    documents_ds = raw_ds.map(lambda x, y: x)\n",
    "    words_ds = documents_ds.map(lambda document: tf.strings.split(standardization(document))).unbatch()\n",
    "    vocab_ds = words_ds.flat_map(tf.data.Dataset.from_tensor_slices).apply(tf.data.experimental.unique())\n",
    "    vocab_size = vocab_ds.reduce(0, lambda count, x: count + 1).numpy()\n",
    "    return vocab_size\n",
    "    \n",
    "vocab_size = analyse_dataset(train_raw_ds)\n",
    "max_tokens = vocab_size + 2\n",
    "print('vocab_size:', vocab_size)\n",
    "print('max_tokens:', max_tokens)\n",
    "\n",
    "# Додавання шару векторизації тексту\n",
    "def custom_text_vectorization_layer(raw_ds, max_tokens):\n",
    "    documents_ds = raw_ds.map(lambda x, y: x)\n",
    "    layer = tf.keras.layers.experimental.preprocessing.TextVectorization(\n",
    "        standardize=standardization,\n",
    "        max_tokens=max_tokens,\n",
    "    )\n",
    "    layer.adapt(documents_ds)\n",
    "    return layer\n",
    "    \n",
    "text_vect_layer = custom_text_vectorization_layer(train_raw_ds, max_tokens)\n",
    "print('effective vocabulary size:', len(text_vect_layer.get_vocabulary()))\n",
    "print(f\"Vocabulary: [{','.join(text_vect_layer.get_vocabulary()[50:60])}'...]\")"
   ]
  },
  {
   "cell_type": "code",
   "execution_count": null,
   "metadata": {},
   "outputs": [],
   "source": []
  },
  {
   "cell_type": "code",
   "execution_count": 6,
   "metadata": {},
   "outputs": [
    {
     "name": "stdout",
     "output_type": "stream",
     "text": [
      "Model: \"sequential_1\"\n",
      "_________________________________________________________________\n",
      "Layer (type)                 Output Shape              Param #   \n",
      "=================================================================\n",
      "text_vectorization_2 (TextVe (None, None)              0         \n",
      "_________________________________________________________________\n",
      "embedding_1 (Embedding)      (None, None, 100)         2073400   \n",
      "_________________________________________________________________\n",
      "global_average_pooling1d_1 ( (None, 100)               0         \n",
      "_________________________________________________________________\n",
      "dense_2 (Dense)              (None, 200)               20200     \n",
      "_________________________________________________________________\n",
      "dense_3 (Dense)              (None, 3)                 603       \n",
      "=================================================================\n",
      "Total params: 2,094,203\n",
      "Trainable params: 2,094,203\n",
      "Non-trainable params: 0\n",
      "_________________________________________________________________\n"
     ]
    }
   ],
   "source": [
    "# FCNN model\n",
    "fcnn = tf.keras.Sequential([\n",
    "    tf.keras.Input(shape=(1,), dtype=tf.string),\n",
    "    custom_text_vectorization_layer(train_raw_ds, max_tokens),\n",
    "    tf.keras.layers.Embedding(max_tokens, 100),\n",
    "    tf.keras.layers.GlobalAveragePooling1D(),\n",
    "    tf.keras.layers.Dense(200, activation='relu'),\n",
    "    tf.keras.layers.Dense(3, activation='softmax')\n",
    "])\n",
    "fcnn.compile(optimizer='adam',\n",
    "              loss='sparse_categorical_crossentropy',\n",
    "              metrics=['acc'])\n",
    "fcnn.summary()"
   ]
  },
  {
   "cell_type": "code",
   "execution_count": 7,
   "metadata": {
    "scrolled": false
   },
   "outputs": [
    {
     "name": "stdout",
     "output_type": "stream",
     "text": [
      "Epoch 1/20\n",
      "120/120 [==============================] - 5s 40ms/step - loss: 0.9636 - acc: 0.5667 - val_loss: 0.8796 - val_acc: 0.5542\n",
      "Epoch 2/20\n",
      "120/120 [==============================] - 5s 39ms/step - loss: 0.5772 - acc: 0.7792 - val_loss: 0.4323 - val_acc: 0.9000\n",
      "Epoch 3/20\n",
      "120/120 [==============================] - 4s 37ms/step - loss: 0.2544 - acc: 0.9531 - val_loss: 0.2364 - val_acc: 0.9417\n",
      "Epoch 4/20\n",
      "120/120 [==============================] - 4s 36ms/step - loss: 0.1571 - acc: 0.9604 - val_loss: 0.2128 - val_acc: 0.9375\n",
      "Epoch 5/20\n",
      "120/120 [==============================] - 4s 34ms/step - loss: 0.1061 - acc: 0.9708 - val_loss: 0.1720 - val_acc: 0.9417\n",
      "Epoch 6/20\n",
      "120/120 [==============================] - 4s 35ms/step - loss: 0.0926 - acc: 0.9729 - val_loss: 0.2101 - val_acc: 0.9375\n",
      "Epoch 7/20\n",
      "120/120 [==============================] - 4s 35ms/step - loss: 0.0696 - acc: 0.9823 - val_loss: 0.1336 - val_acc: 0.9625\n",
      "Epoch 8/20\n",
      "120/120 [==============================] - 5s 45ms/step - loss: 0.0633 - acc: 0.9833 - val_loss: 0.1806 - val_acc: 0.9458\n",
      "Epoch 9/20\n",
      "120/120 [==============================] - 5s 41ms/step - loss: 0.0622 - acc: 0.9802 - val_loss: 0.1537 - val_acc: 0.9500\n",
      "Epoch 10/20\n",
      "120/120 [==============================] - 6s 49ms/step - loss: 0.0601 - acc: 0.9823 - val_loss: 0.1989 - val_acc: 0.9458\n",
      "Epoch 11/20\n",
      "120/120 [==============================] - 4s 36ms/step - loss: 0.0584 - acc: 0.9760 - val_loss: 0.2206 - val_acc: 0.9458\n",
      "Epoch 12/20\n",
      "120/120 [==============================] - 6s 53ms/step - loss: 0.0489 - acc: 0.9823 - val_loss: 0.2058 - val_acc: 0.9542\n",
      "Epoch 13/20\n",
      "120/120 [==============================] - 6s 47ms/step - loss: 0.0479 - acc: 0.9833 - val_loss: 0.1460 - val_acc: 0.9542\n",
      "Epoch 14/20\n",
      "120/120 [==============================] - 4s 36ms/step - loss: 0.0425 - acc: 0.9844 - val_loss: 0.1423 - val_acc: 0.9625\n",
      "Epoch 15/20\n",
      "120/120 [==============================] - 4s 34ms/step - loss: 0.0423 - acc: 0.9833 - val_loss: 0.1720 - val_acc: 0.9583\n",
      "Epoch 16/20\n",
      "120/120 [==============================] - 4s 34ms/step - loss: 0.0534 - acc: 0.9833 - val_loss: 0.2010 - val_acc: 0.9542\n",
      "Epoch 17/20\n",
      "120/120 [==============================] - 4s 35ms/step - loss: 0.0368 - acc: 0.9854 - val_loss: 0.1302 - val_acc: 0.9667\n",
      "Epoch 18/20\n",
      "120/120 [==============================] - 4s 35ms/step - loss: 0.0372 - acc: 0.9865 - val_loss: 0.1680 - val_acc: 0.9500\n",
      "Epoch 19/20\n",
      "120/120 [==============================] - 4s 35ms/step - loss: 0.0444 - acc: 0.9844 - val_loss: 0.1603 - val_acc: 0.9542\n",
      "Epoch 20/20\n",
      "120/120 [==============================] - 4s 36ms/step - loss: 0.0432 - acc: 0.9833 - val_loss: 0.1365 - val_acc: 0.9625\n"
     ]
    },
    {
     "data": {
      "image/png": "[encoded data removed]",
      "text/plain": [
       "<Figure size 432x288 with 1 Axes>"
      ]
     },
     "metadata": {
      "needs_background": "light"
     },
     "output_type": "display_data"
    }
   ],
   "source": [
    "history = fcnn.fit(\n",
    "    train_raw_ds,\n",
    "    validation_data=test_raw_ds, \n",
    "    epochs=20)\n",
    "\n",
    "plt.plot(history.history['acc'], label='accuracy')\n",
    "plt.plot(history.history['val_acc'], label='val_accuracy')\n",
    "plt.xlabel('Epoch')\n",
    "plt.ylabel('Accuracy')\n",
    "plt.ylim([0.5, 1])\n",
    "plt.legend(loc='lower right')\n",
    "plt.show()"
   ]
  },
  {
   "cell_type": "code",
   "execution_count": 125,
   "metadata": {},
   "outputs": [
    {
     "name": "stdout",
     "output_type": "stream",
     "text": [
      "Model: \"sequential_27\"\n",
      "_________________________________________________________________\n",
      "Layer (type)                 Output Shape              Param #   \n",
      "=================================================================\n",
      "text_vectorization_58 (TextV (None, None)              0         \n",
      "_________________________________________________________________\n",
      "embedding_37 (Embedding)     (None, None, 50)          1036700   \n",
      "_________________________________________________________________\n",
      "global_average_pooling1d_14  (None, 50)                0         \n",
      "_________________________________________________________________\n",
      "dense_50 (Dense)             (None, 100)               5100      \n",
      "_________________________________________________________________\n",
      "dense_51 (Dense)             (None, 3)                 303       \n",
      "=================================================================\n",
      "Total params: 1,042,103\n",
      "Trainable params: 1,042,103\n",
      "Non-trainable params: 0\n",
      "_________________________________________________________________\n"
     ]
    }
   ],
   "source": [
    "# FCNN model\n",
    "fcnn = tf.keras.Sequential([\n",
    "    tf.keras.Input(shape=(1,), dtype=tf.string),\n",
    "    custom_text_vectorization_layer(train_raw_ds, max_tokens),\n",
    "    tf.keras.layers.Embedding(max_tokens, 50),\n",
    "    tf.keras.layers.GlobalAveragePooling1D(),\n",
    "    tf.keras.layers.Dense(100, activation='relu'),\n",
    "    tf.keras.layers.Dense(3, activation='softmax')\n",
    "])\n",
    "fcnn.compile(optimizer='adam',\n",
    "              loss='sparse_categorical_crossentropy',\n",
    "              metrics=['acc'])\n",
    "fcnn.summary()"
   ]
  },
  {
   "cell_type": "code",
   "execution_count": 126,
   "metadata": {},
   "outputs": [
    {
     "name": "stdout",
     "output_type": "stream",
     "text": [
      "Epoch 1/20\n",
      "120/120 [==============================] - 4s 31ms/step - loss: 1.0191 - acc: 0.5719 - val_loss: 0.9246 - val_acc: 0.6583\n",
      "Epoch 2/20\n",
      "120/120 [==============================] - 3s 28ms/step - loss: 0.7112 - acc: 0.7479 - val_loss: 0.6870 - val_acc: 0.7000\n",
      "Epoch 3/20\n",
      "120/120 [==============================] - 4s 33ms/step - loss: 0.4418 - acc: 0.8625 - val_loss: 0.4197 - val_acc: 0.8667\n",
      "Epoch 4/20\n",
      "120/120 [==============================] - 4s 34ms/step - loss: 0.2599 - acc: 0.9438 - val_loss: 0.2971 - val_acc: 0.9000\n",
      "Epoch 5/20\n",
      "120/120 [==============================] - 4s 36ms/step - loss: 0.1725 - acc: 0.9646 - val_loss: 0.2042 - val_acc: 0.9500\n",
      "Epoch 6/20\n",
      "120/120 [==============================] - 4s 33ms/step - loss: 0.1437 - acc: 0.9615 - val_loss: 0.2101 - val_acc: 0.9292\n",
      "Epoch 7/20\n",
      "120/120 [==============================] - 4s 35ms/step - loss: 0.1039 - acc: 0.9792 - val_loss: 0.1387 - val_acc: 0.9583\n",
      "Epoch 8/20\n",
      "120/120 [==============================] - 4s 31ms/step - loss: 0.0894 - acc: 0.9729 - val_loss: 0.1569 - val_acc: 0.9500\n",
      "Epoch 9/20\n",
      "120/120 [==============================] - 3s 29ms/step - loss: 0.0777 - acc: 0.9792 - val_loss: 0.1533 - val_acc: 0.9542\n",
      "Epoch 10/20\n",
      "120/120 [==============================] - 3s 27ms/step - loss: 0.0673 - acc: 0.9812 - val_loss: 0.1345 - val_acc: 0.9583\n",
      "Epoch 11/20\n",
      "120/120 [==============================] - 3s 27ms/step - loss: 0.0608 - acc: 0.9875 - val_loss: 0.1553 - val_acc: 0.9583\n",
      "Epoch 12/20\n",
      "120/120 [==============================] - 3s 26ms/step - loss: 0.0543 - acc: 0.9833 - val_loss: 0.1297 - val_acc: 0.9542\n",
      "Epoch 13/20\n",
      "120/120 [==============================] - 3s 27ms/step - loss: 0.0539 - acc: 0.9833 - val_loss: 0.1321 - val_acc: 0.9667\n",
      "Epoch 14/20\n",
      "120/120 [==============================] - 3s 27ms/step - loss: 0.0487 - acc: 0.9896 - val_loss: 0.1227 - val_acc: 0.9625\n",
      "Epoch 15/20\n",
      "120/120 [==============================] - 3s 27ms/step - loss: 0.0469 - acc: 0.9792 - val_loss: 0.1904 - val_acc: 0.9458\n",
      "Epoch 16/20\n",
      "120/120 [==============================] - 3s 26ms/step - loss: 0.0489 - acc: 0.9781 - val_loss: 0.1593 - val_acc: 0.9542\n",
      "Epoch 17/20\n",
      "120/120 [==============================] - 3s 29ms/step - loss: 0.0415 - acc: 0.9854 - val_loss: 0.1330 - val_acc: 0.9583\n",
      "Epoch 18/20\n",
      "120/120 [==============================] - 3s 29ms/step - loss: 0.0500 - acc: 0.9833 - val_loss: 0.1942 - val_acc: 0.9500\n",
      "Epoch 19/20\n",
      "120/120 [==============================] - 3s 27ms/step - loss: 0.0451 - acc: 0.9792 - val_loss: 0.1636 - val_acc: 0.9542\n",
      "Epoch 20/20\n",
      "120/120 [==============================] - 3s 27ms/step - loss: 0.0428 - acc: 0.9896 - val_loss: 0.1374 - val_acc: 0.9625\n"
     ]
    },
    {
     "data": {
      "image/png": "[encoded data removed]",
      "text/plain": [
       "<Figure size 432x288 with 1 Axes>"
      ]
     },
     "metadata": {
      "needs_background": "light"
     },
     "output_type": "display_data"
    }
   ],
   "source": [
    "history = fcnn.fit(\n",
    "    train_raw_ds,\n",
    "    validation_data=test_raw_ds, \n",
    "    epochs=20)\n",
    "\n",
    "plt.plot(history.history['acc'], label='accuracy')\n",
    "plt.plot(history.history['val_acc'], label='val_accuracy')\n",
    "plt.xlabel('Epoch')\n",
    "plt.ylabel('Accuracy')\n",
    "plt.ylim([0.5, 1])\n",
    "plt.legend(loc='lower right')\n",
    "plt.show()"
   ]
  },
  {
   "cell_type": "code",
   "execution_count": 129,
   "metadata": {},
   "outputs": [
    {
     "name": "stdout",
     "output_type": "stream",
     "text": [
      "Model: \"sequential_29\"\n",
      "_________________________________________________________________\n",
      "Layer (type)                 Output Shape              Param #   \n",
      "=================================================================\n",
      "text_vectorization_60 (TextV (None, None)              0         \n",
      "_________________________________________________________________\n",
      "embedding_39 (Embedding)     (None, None, 20)          414680    \n",
      "_________________________________________________________________\n",
      "global_average_pooling1d_16  (None, 20)                0         \n",
      "_________________________________________________________________\n",
      "dense_54 (Dense)             (None, 40)                840       \n",
      "_________________________________________________________________\n",
      "dense_55 (Dense)             (None, 3)                 123       \n",
      "=================================================================\n",
      "Total params: 415,643\n",
      "Trainable params: 415,643\n",
      "Non-trainable params: 0\n",
      "_________________________________________________________________\n"
     ]
    }
   ],
   "source": [
    "# FCNN model\n",
    "fcnn = tf.keras.Sequential([\n",
    "    tf.keras.Input(shape=(1,), dtype=tf.string),\n",
    "    custom_text_vectorization_layer(train_raw_ds, max_tokens),\n",
    "    tf.keras.layers.Embedding(max_tokens, 20),\n",
    "    tf.keras.layers.GlobalAveragePooling1D(),\n",
    "    tf.keras.layers.Dense(40, activation='relu'),\n",
    "    tf.keras.layers.Dense(3, activation='softmax')\n",
    "])\n",
    "fcnn.compile(optimizer='adam',\n",
    "              loss='sparse_categorical_crossentropy',\n",
    "              metrics=['acc'])\n",
    "fcnn.summary()"
   ]
  },
  {
   "cell_type": "code",
   "execution_count": 130,
   "metadata": {},
   "outputs": [
    {
     "name": "stdout",
     "output_type": "stream",
     "text": [
      "Epoch 1/20\n",
      "120/120 [==============================] - 2s 19ms/step - loss: 1.0654 - acc: 0.5104 - val_loss: 1.0247 - val_acc: 0.5792\n",
      "Epoch 2/20\n",
      "120/120 [==============================] - 2s 14ms/step - loss: 0.8646 - acc: 0.6927 - val_loss: 0.8650 - val_acc: 0.7625\n",
      "Epoch 3/20\n",
      "120/120 [==============================] - 2s 15ms/step - loss: 0.6833 - acc: 0.7771 - val_loss: 0.7003 - val_acc: 0.8292\n",
      "Epoch 4/20\n",
      "120/120 [==============================] - 2s 15ms/step - loss: 0.4971 - acc: 0.8760 - val_loss: 0.5120 - val_acc: 0.8833\n",
      "Epoch 5/20\n",
      "120/120 [==============================] - 2s 15ms/step - loss: 0.3548 - acc: 0.9281 - val_loss: 0.3724 - val_acc: 0.9083\n",
      "Epoch 6/20\n",
      "120/120 [==============================] - 2s 15ms/step - loss: 0.2631 - acc: 0.9510 - val_loss: 0.2784 - val_acc: 0.9375\n",
      "Epoch 7/20\n",
      "120/120 [==============================] - 2s 15ms/step - loss: 0.2004 - acc: 0.9615 - val_loss: 0.2576 - val_acc: 0.9292\n",
      "Epoch 8/20\n",
      "120/120 [==============================] - 2s 15ms/step - loss: 0.1627 - acc: 0.9688 - val_loss: 0.2225 - val_acc: 0.9542\n",
      "Epoch 9/20\n",
      "120/120 [==============================] - 2s 16ms/step - loss: 0.1348 - acc: 0.9781 - val_loss: 0.1873 - val_acc: 0.9458\n",
      "Epoch 10/20\n",
      "120/120 [==============================] - 2s 16ms/step - loss: 0.1134 - acc: 0.9740 - val_loss: 0.1676 - val_acc: 0.9542\n",
      "Epoch 11/20\n",
      "120/120 [==============================] - 2s 15ms/step - loss: 0.0953 - acc: 0.9802 - val_loss: 0.1611 - val_acc: 0.9625\n",
      "Epoch 12/20\n",
      "120/120 [==============================] - 2s 17ms/step - loss: 0.0868 - acc: 0.9844 - val_loss: 0.1728 - val_acc: 0.9375\n",
      "Epoch 13/20\n",
      "120/120 [==============================] - 2s 17ms/step - loss: 0.0807 - acc: 0.9792 - val_loss: 0.1352 - val_acc: 0.9708\n",
      "Epoch 14/20\n",
      "120/120 [==============================] - 2s 15ms/step - loss: 0.0737 - acc: 0.9833 - val_loss: 0.1258 - val_acc: 0.9542\n",
      "Epoch 15/20\n",
      "120/120 [==============================] - 2s 15ms/step - loss: 0.0694 - acc: 0.9875 - val_loss: 0.1232 - val_acc: 0.9542\n",
      "Epoch 16/20\n",
      "120/120 [==============================] - 2s 15ms/step - loss: 0.0654 - acc: 0.9844 - val_loss: 0.1296 - val_acc: 0.9625\n",
      "Epoch 17/20\n",
      "120/120 [==============================] - 2s 15ms/step - loss: 0.0602 - acc: 0.9844 - val_loss: 0.1427 - val_acc: 0.9583\n",
      "Epoch 18/20\n",
      "120/120 [==============================] - 2s 15ms/step - loss: 0.0554 - acc: 0.9833 - val_loss: 0.1363 - val_acc: 0.9583\n",
      "Epoch 19/20\n",
      "120/120 [==============================] - 2s 15ms/step - loss: 0.0547 - acc: 0.9875 - val_loss: 0.1407 - val_acc: 0.9583\n",
      "Epoch 20/20\n",
      "120/120 [==============================] - 2s 16ms/step - loss: 0.0533 - acc: 0.9823 - val_loss: 0.1381 - val_acc: 0.9542\n"
     ]
    },
    {
     "data": {
      "image/png": "[encoded data removed]",
      "text/plain": [
       "<Figure size 432x288 with 1 Axes>"
      ]
     },
     "metadata": {
      "needs_background": "light"
     },
     "output_type": "display_data"
    }
   ],
   "source": [
    "history = fcnn.fit(\n",
    "    train_raw_ds,\n",
    "    validation_data=test_raw_ds, \n",
    "    epochs=20)\n",
    "\n",
    "plt.plot(history.history['acc'], label='accuracy')\n",
    "plt.plot(history.history['val_acc'], label='val_accuracy')\n",
    "plt.xlabel('Epoch')\n",
    "plt.ylabel('Accuracy')\n",
    "plt.ylim([0.5, 1])\n",
    "plt.legend(loc='lower right')\n",
    "plt.show()"
   ]
  },
  {
   "cell_type": "code",
   "execution_count": null,
   "metadata": {},
   "outputs": [],
   "source": [
    "\n",
    "\n",
    "\n",
    "\n",
    "\n",
    "\n",
    "\n",
    "\n",
    "\n",
    "\n",
    "\n",
    "\n",
    "\n"
   ]
  }
 ],
 "metadata": {
  "kernelspec": {
   "display_name": "nlp",
   "language": "python",
   "name": "nlp"
  },
  "language_info": {
   "codemirror_mode": {
    "name": "ipython",
    "version": 3
   },
   "file_extension": ".py",
   "mimetype": "text/x-python",
   "name": "python",
   "nbconvert_exporter": "python",
   "pygments_lexer": "ipython3",
   "version": "3.8.1"
  }
 },
 "nbformat": 4,
 "nbformat_minor": 2
}
