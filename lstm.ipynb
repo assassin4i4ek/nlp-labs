{
 "cells": [
  {
   "cell_type": "code",
   "execution_count": 252,
   "metadata": {
    "scrolled": true
   },
   "outputs": [
    {
     "name": "stdout",
     "output_type": "stream",
     "text": [
      "Found 1200 files belonging to 3 classes.\n",
      "Using 960 files for training.\n",
      "Found 1200 files belonging to 3 classes.\n",
      "Using 240 files for validation.\n"
     ]
    }
   ],
   "source": [
    "import numpy as np\n",
    "import tensorflow as tf\n",
    "import re\n",
    "import string\n",
    "import matplotlib.pyplot as plt\n",
    "\n",
    "train_raw_ds = tf.keras.preprocessing.text_dataset_from_directory(\n",
    "    directory='./data',\n",
    "    validation_split=0.2, \n",
    "    subset='training',\n",
    "    batch_size=8,\n",
    "    shuffle=True,\n",
    "    seed=123\n",
    ")\n",
    "test_raw_ds = tf.keras.preprocessing.text_dataset_from_directory(\n",
    "    directory='./data',\n",
    "    validation_split=0.2, \n",
    "    subset='validation',\n",
    "    batch_size=8,\n",
    "    shuffle=True,\n",
    "    seed=123\n",
    ")"
   ]
  },
  {
   "cell_type": "code",
   "execution_count": 253,
   "metadata": {
    "scrolled": true
   },
   "outputs": [
    {
     "name": "stdout",
     "output_type": "stream",
     "text": [
      "vocab_size: 20732\n",
      "max_tokens: 20734\n",
      "effective vocabulary size: 20734\n"
     ]
    }
   ],
   "source": [
    "# Визначення\n",
    "#    розміру словнику (vocab_size),\n",
    "#    максимального розміру словнику (max_tokens)\n",
    "def standardization(input_data):\n",
    "    output = tf.strings.lower(input_data, encoding='utf-8')\n",
    "    output = tf.strings.regex_replace(output, '[%s]' % re.escape(string.punctuation), '')\n",
    "    output = tf.strings.regex_replace(output, '[%s]' % (b'\\xc2\\xa0'.decode() + b'\\xe2\\xa0\\x80'.decode()), ' ')\n",
    "    return output\n",
    "\n",
    "def analyse_dataset(raw_ds):\n",
    "    documents_ds = raw_ds.map(lambda x, y: x)\n",
    "    words_ds = documents_ds.map(lambda document: tf.strings.split(standardization(document))).unbatch()\n",
    "    vocab_ds = words_ds.flat_map(tf.data.Dataset.from_tensor_slices).apply(tf.data.experimental.unique())\n",
    "    vocab_size = vocab_ds.reduce(0, lambda count, x: count + 1).numpy()\n",
    "    return vocab_size\n",
    "    \n",
    "vocab_size = analyse_dataset(train_raw_ds)\n",
    "max_tokens = vocab_size + 2\n",
    "print('vocab_size:', vocab_size)\n",
    "print('max_tokens:', max_tokens)\n",
    "\n",
    "# Додавання шару векторизації тексту\n",
    "def custom_text_vectorization_layer(raw_ds, max_tokens):\n",
    "    documents_ds = raw_ds.map(lambda x, y: x)\n",
    "    layer = tf.keras.layers.experimental.preprocessing.TextVectorization(\n",
    "        standardize=standardization,\n",
    "        max_tokens=max_tokens\n",
    "    )\n",
    "    layer.adapt(documents_ds)\n",
    "    return layer\n",
    "    \n",
    "text_vect_layer = custom_text_vectorization_layer(train_raw_ds, max_tokens)\n",
    "print('effective vocabulary size:', len(text_vect_layer.get_vocabulary()))"
   ]
  },
  {
   "cell_type": "code",
   "execution_count": 232,
   "metadata": {
    "scrolled": true
   },
   "outputs": [
    {
     "name": "stdout",
     "output_type": "stream",
     "text": [
      "Vocabulary: [при,black,видео,можете,как,5,можна,экран,к,дисплей'...]\n"
     ]
    }
   ],
   "source": [
    "print(f\"Vocabulary: [{','.join(text_vect_layer.get_vocabulary()[50:60])}'...]\")\n",
    "# print(list(text_vect_layer(['только что вышел новый айфон']).numpy()))"
   ]
  },
  {
   "cell_type": "code",
   "execution_count": 260,
   "metadata": {},
   "outputs": [
    {
     "name": "stdout",
     "output_type": "stream",
     "text": [
      "Model: \"sequential_42\"\n",
      "_________________________________________________________________\n",
      "Layer (type)                 Output Shape              Param #   \n",
      "=================================================================\n",
      "text_vectorization_76 (TextV (None, None)              0         \n",
      "_________________________________________________________________\n",
      "embedding_66 (Embedding)     (None, None, 50)          1036700   \n",
      "_________________________________________________________________\n",
      "lstm_64 (LSTM)               (None, 50)                20200     \n",
      "_________________________________________________________________\n",
      "dense_42 (Dense)             (None, 3)                 153       \n",
      "=================================================================\n",
      "Total params: 1,057,053\n",
      "Trainable params: 1,057,053\n",
      "Non-trainable params: 0\n",
      "_________________________________________________________________\n"
     ]
    }
   ],
   "source": [
    "# LSTM model\n",
    "lstm = tf.keras.Sequential([\n",
    "    tf.keras.Input(shape=(1,), dtype=tf.string),\n",
    "    custom_text_vectorization_layer(train_raw_ds, max_tokens),\n",
    "    tf.keras.layers.Embedding(max_tokens, 50, mask_zero=True),\n",
    "    tf.keras.layers.LSTM(50),\n",
    "    tf.keras.layers.Dense(3, activation='softmax')\n",
    "])\n",
    "lstm.compile(optimizer='adam',\n",
    "              loss='sparse_categorical_crossentropy',\n",
    "              metrics=['acc'])\n",
    "lstm.summary()"
   ]
  },
  {
   "cell_type": "code",
   "execution_count": 261,
   "metadata": {},
   "outputs": [
    {
     "name": "stdout",
     "output_type": "stream",
     "text": [
      "Epoch 1/10\n",
      "120/120 [==============================] - 39s 328ms/step - loss: 0.8364 - acc: 0.6104 - val_loss: 0.5799 - val_acc: 0.6792\n",
      "Epoch 2/10\n",
      "120/120 [==============================] - 38s 320ms/step - loss: 0.2868 - acc: 0.9125 - val_loss: 0.3317 - val_acc: 0.9208\n",
      "Epoch 3/10\n",
      "120/120 [==============================] - 38s 317ms/step - loss: 0.0605 - acc: 0.9917 - val_loss: 0.1743 - val_acc: 0.9458\n",
      "Epoch 4/10\n",
      "120/120 [==============================] - 33s 274ms/step - loss: 0.0266 - acc: 0.9927 - val_loss: 0.1528 - val_acc: 0.9458\n",
      "Epoch 5/10\n",
      "120/120 [==============================] - 29s 244ms/step - loss: 0.0209 - acc: 0.9937 - val_loss: 0.1405 - val_acc: 0.9583\n",
      "Epoch 6/10\n",
      "120/120 [==============================] - 33s 274ms/step - loss: 0.0174 - acc: 0.9937 - val_loss: 0.1542 - val_acc: 0.9583\n",
      "Epoch 7/10\n",
      "120/120 [==============================] - 39s 325ms/step - loss: 0.0221 - acc: 0.9927 - val_loss: 0.1613 - val_acc: 0.9500\n",
      "Epoch 8/10\n",
      "120/120 [==============================] - 40s 335ms/step - loss: 0.0154 - acc: 0.9937 - val_loss: 0.1867 - val_acc: 0.9458\n",
      "Epoch 9/10\n",
      "120/120 [==============================] - 38s 318ms/step - loss: 0.0145 - acc: 0.9937 - val_loss: 0.1568 - val_acc: 0.9542\n",
      "Epoch 10/10\n",
      "120/120 [==============================] - 40s 334ms/step - loss: 0.0140 - acc: 0.9937 - val_loss: 0.1589 - val_acc: 0.9583\n"
     ]
    },
    {
     "data": {
      "image/png": "[encoded data removed]",
      "text/plain": [
       "<Figure size 432x288 with 1 Axes>"
      ]
     },
     "metadata": {
      "needs_background": "light"
     },
     "output_type": "display_data"
    }
   ],
   "source": [
    "history = lstm.fit(\n",
    "    train_raw_ds,\n",
    "    validation_data=test_raw_ds, \n",
    "    epochs=10\n",
    ")\n",
    "\n",
    "plt.plot(history.history['acc'], label='accuracy')\n",
    "plt.plot(history.history['val_acc'], label='val_accuracy')\n",
    "plt.xlabel('Epoch')\n",
    "plt.ylabel('Accuracy')\n",
    "plt.ylim([0.5, 1])\n",
    "plt.legend(loc='lower right')\n",
    "plt.show()"
   ]
  },
  {
   "cell_type": "code",
   "execution_count": 264,
   "metadata": {
    "scrolled": false
   },
   "outputs": [
    {
     "name": "stdout",
     "output_type": "stream",
     "text": [
      "Model: \"sequential_44\"\n",
      "_________________________________________________________________\n",
      "Layer (type)                 Output Shape              Param #   \n",
      "=================================================================\n",
      "text_vectorization_78 (TextV (None, None)              0         \n",
      "_________________________________________________________________\n",
      "embedding_68 (Embedding)     (None, None, 25)          518350    \n",
      "_________________________________________________________________\n",
      "lstm_66 (LSTM)               (None, 25)                5100      \n",
      "_________________________________________________________________\n",
      "dense_44 (Dense)             (None, 3)                 78        \n",
      "=================================================================\n",
      "Total params: 523,528\n",
      "Trainable params: 523,528\n",
      "Non-trainable params: 0\n",
      "_________________________________________________________________\n"
     ]
    }
   ],
   "source": [
    "# LSTM model\n",
    "lstm = tf.keras.Sequential([\n",
    "    tf.keras.Input(shape=(1,), dtype=tf.string),\n",
    "    custom_text_vectorization_layer(train_raw_ds, max_tokens),\n",
    "    tf.keras.layers.Embedding(max_tokens, 25, mask_zero=True),\n",
    "    tf.keras.layers.LSTM(25),\n",
    "    tf.keras.layers.Dense(3, activation='softmax')\n",
    "])\n",
    "lstm.compile(optimizer='adam',\n",
    "              loss='sparse_categorical_crossentropy',\n",
    "              metrics=['acc'])\n",
    "lstm.summary()"
   ]
  },
  {
   "cell_type": "code",
   "execution_count": 265,
   "metadata": {
    "scrolled": false
   },
   "outputs": [
    {
     "name": "stdout",
     "output_type": "stream",
     "text": [
      "Epoch 1/10\n",
      "120/120 [==============================] - 32s 266ms/step - loss: 0.8841 - acc: 0.5927 - val_loss: 0.7088 - val_acc: 0.6917\n",
      "Epoch 2/10\n",
      "120/120 [==============================] - 29s 242ms/step - loss: 0.4751 - acc: 0.8573 - val_loss: 0.2753 - val_acc: 0.9042\n",
      "Epoch 3/10\n",
      "120/120 [==============================] - 37s 310ms/step - loss: 0.1882 - acc: 0.9594 - val_loss: 0.1950 - val_acc: 0.9458\n",
      "Epoch 4/10\n",
      "120/120 [==============================] - 28s 230ms/step - loss: 0.0681 - acc: 0.9844 - val_loss: 0.1214 - val_acc: 0.9625\n",
      "Epoch 5/10\n",
      "120/120 [==============================] - 26s 220ms/step - loss: 0.0430 - acc: 0.9885 - val_loss: 0.1458 - val_acc: 0.9542\n",
      "Epoch 6/10\n",
      "120/120 [==============================] - 34s 282ms/step - loss: 0.0398 - acc: 0.9875 - val_loss: 0.1293 - val_acc: 0.9583\n",
      "Epoch 7/10\n",
      "120/120 [==============================] - 34s 285ms/step - loss: 0.0245 - acc: 0.9906 - val_loss: 0.1319 - val_acc: 0.9583\n",
      "Epoch 8/10\n",
      "120/120 [==============================] - 34s 286ms/step - loss: 0.0211 - acc: 0.9906 - val_loss: 0.1714 - val_acc: 0.9500\n",
      "Epoch 9/10\n",
      "120/120 [==============================] - 35s 288ms/step - loss: 0.1534 - acc: 0.9573 - val_loss: 0.2467 - val_acc: 0.9250\n",
      "Epoch 10/10\n",
      "120/120 [==============================] - 35s 294ms/step - loss: 0.0491 - acc: 0.9896 - val_loss: 0.2087 - val_acc: 0.9333\n"
     ]
    },
    {
     "data": {
      "image/png": "[encoded data removed]",
      "text/plain": [
       "<Figure size 432x288 with 1 Axes>"
      ]
     },
     "metadata": {
      "needs_background": "light"
     },
     "output_type": "display_data"
    }
   ],
   "source": [
    "history = lstm.fit(\n",
    "    train_raw_ds,\n",
    "    validation_data=test_raw_ds, \n",
    "    epochs=10\n",
    ")\n",
    "\n",
    "plt.plot(history.history['acc'], label='accuracy')\n",
    "plt.plot(history.history['val_acc'], label='val_accuracy')\n",
    "plt.xlabel('Epoch')\n",
    "plt.ylabel('Accuracy')\n",
    "plt.ylim([0.5, 1])\n",
    "plt.legend(loc='lower right')\n",
    "plt.show()"
   ]
  },
  {
   "cell_type": "code",
   "execution_count": 266,
   "metadata": {},
   "outputs": [
    {
     "name": "stdout",
     "output_type": "stream",
     "text": [
      "Model: \"sequential_45\"\n",
      "_________________________________________________________________\n",
      "Layer (type)                 Output Shape              Param #   \n",
      "=================================================================\n",
      "text_vectorization_79 (TextV (None, None)              0         \n",
      "_________________________________________________________________\n",
      "embedding_69 (Embedding)     (None, None, 50)          1036700   \n",
      "_________________________________________________________________\n",
      "bidirectional_2 (Bidirection (None, 50)                15200     \n",
      "_________________________________________________________________\n",
      "dense_45 (Dense)             (None, 3)                 153       \n",
      "=================================================================\n",
      "Total params: 1,052,053\n",
      "Trainable params: 1,052,053\n",
      "Non-trainable params: 0\n",
      "_________________________________________________________________\n"
     ]
    }
   ],
   "source": [
    "# LSTM model\n",
    "lstm = tf.keras.Sequential([\n",
    "    tf.keras.Input(shape=(1,), dtype=tf.string),\n",
    "    custom_text_vectorization_layer(train_raw_ds, max_tokens),\n",
    "    tf.keras.layers.Embedding(max_tokens, 50, mask_zero=True),\n",
    "    tf.keras.layers.Bidirectional(tf.keras.layers.LSTM(25)),\n",
    "    tf.keras.layers.Dense(3, activation='softmax')\n",
    "])\n",
    "lstm.compile(optimizer='adam',\n",
    "              loss='sparse_categorical_crossentropy',\n",
    "              metrics=['acc'])\n",
    "lstm.summary()"
   ]
  },
  {
   "cell_type": "code",
   "execution_count": 267,
   "metadata": {},
   "outputs": [
    {
     "name": "stdout",
     "output_type": "stream",
     "text": [
      "Epoch 1/10\n",
      "120/120 [==============================] - 47s 392ms/step - loss: 0.7275 - acc: 0.7156 - val_loss: 0.3448 - val_acc: 0.8708\n",
      "Epoch 2/10\n",
      "120/120 [==============================] - 40s 329ms/step - loss: 0.1321 - acc: 0.9698 - val_loss: 0.1631 - val_acc: 0.9375\n",
      "Epoch 3/10\n",
      "120/120 [==============================] - 45s 376ms/step - loss: 0.0599 - acc: 0.9896 - val_loss: 0.1658 - val_acc: 0.9333\n",
      "Epoch 4/10\n",
      "120/120 [==============================] - 44s 363ms/step - loss: 0.0294 - acc: 0.9927 - val_loss: 0.1497 - val_acc: 0.9458\n",
      "Epoch 5/10\n",
      "120/120 [==============================] - 42s 350ms/step - loss: 0.0306 - acc: 0.9896 - val_loss: 0.1394 - val_acc: 0.9375\n",
      "Epoch 6/10\n",
      "120/120 [==============================] - 48s 401ms/step - loss: 0.0192 - acc: 0.9937 - val_loss: 0.1398 - val_acc: 0.9500\n",
      "Epoch 7/10\n",
      "120/120 [==============================] - 44s 369ms/step - loss: 0.0164 - acc: 0.9937 - val_loss: 0.1406 - val_acc: 0.9500\n",
      "Epoch 8/10\n",
      "120/120 [==============================] - 42s 352ms/step - loss: 0.0153 - acc: 0.9937 - val_loss: 0.1356 - val_acc: 0.9542\n",
      "Epoch 9/10\n",
      "120/120 [==============================] - 44s 365ms/step - loss: 0.0145 - acc: 0.9937 - val_loss: 0.1316 - val_acc: 0.9542\n",
      "Epoch 10/10\n",
      "120/120 [==============================] - 42s 347ms/step - loss: 0.0140 - acc: 0.9937 - val_loss: 0.1333 - val_acc: 0.9542\n"
     ]
    },
    {
     "data": {
      "image/png": "[encoded data removed]",
      "text/plain": [
       "<Figure size 432x288 with 1 Axes>"
      ]
     },
     "metadata": {
      "needs_background": "light"
     },
     "output_type": "display_data"
    }
   ],
   "source": [
    "history = lstm.fit(\n",
    "    train_raw_ds,\n",
    "    validation_data=test_raw_ds, \n",
    "    epochs=10\n",
    ")\n",
    "\n",
    "plt.plot(history.history['acc'], label='accuracy')\n",
    "plt.plot(history.history['val_acc'], label='val_accuracy')\n",
    "plt.xlabel('Epoch')\n",
    "plt.ylabel('Accuracy')\n",
    "plt.ylim([0.5, 1])\n",
    "plt.legend(loc='lower right')\n",
    "plt.show()"
   ]
  },
  {
   "cell_type": "code",
   "execution_count": 268,
   "metadata": {},
   "outputs": [
    {
     "name": "stdout",
     "output_type": "stream",
     "text": [
      "Model: \"sequential_46\"\n",
      "_________________________________________________________________\n",
      "Layer (type)                 Output Shape              Param #   \n",
      "=================================================================\n",
      "text_vectorization_80 (TextV (None, None)              0         \n",
      "_________________________________________________________________\n",
      "embedding_70 (Embedding)     (None, None, 50)          1036700   \n",
      "_________________________________________________________________\n",
      "bidirectional_3 (Bidirection (None, 100)               40400     \n",
      "_________________________________________________________________\n",
      "dense_46 (Dense)             (None, 3)                 303       \n",
      "=================================================================\n",
      "Total params: 1,077,403\n",
      "Trainable params: 1,077,403\n",
      "Non-trainable params: 0\n",
      "_________________________________________________________________\n"
     ]
    }
   ],
   "source": [
    "# LSTM model\n",
    "lstm = tf.keras.Sequential([\n",
    "    tf.keras.Input(shape=(1,), dtype=tf.string),\n",
    "    custom_text_vectorization_layer(train_raw_ds, max_tokens),\n",
    "    tf.keras.layers.Embedding(max_tokens, 50, mask_zero=True),\n",
    "    tf.keras.layers.Bidirectional(tf.keras.layers.LSTM(50)),\n",
    "    tf.keras.layers.Dense(3, activation='softmax')\n",
    "])\n",
    "lstm.compile(optimizer='adam',\n",
    "              loss='sparse_categorical_crossentropy',\n",
    "              metrics=['acc'])\n",
    "lstm.summary()"
   ]
  },
  {
   "cell_type": "code",
   "execution_count": 269,
   "metadata": {},
   "outputs": [
    {
     "name": "stdout",
     "output_type": "stream",
     "text": [
      "Epoch 1/10\n",
      "120/120 [==============================] - 49s 407ms/step - loss: 0.6458 - acc: 0.7510 - val_loss: 0.2776 - val_acc: 0.9000\n",
      "Epoch 2/10\n",
      "120/120 [==============================] - 49s 408ms/step - loss: 0.1045 - acc: 0.9760 - val_loss: 0.1404 - val_acc: 0.9667\n",
      "Epoch 3/10\n",
      "120/120 [==============================] - 47s 394ms/step - loss: 0.0329 - acc: 0.9917 - val_loss: 0.0605 - val_acc: 0.9667\n",
      "Epoch 4/10\n",
      "120/120 [==============================] - 49s 408ms/step - loss: 0.0247 - acc: 0.9937 - val_loss: 0.0763 - val_acc: 0.9708\n",
      "Epoch 5/10\n",
      "120/120 [==============================] - 43s 360ms/step - loss: 0.0169 - acc: 0.9937 - val_loss: 0.0984 - val_acc: 0.9667\n",
      "Epoch 6/10\n",
      "120/120 [==============================] - 45s 374ms/step - loss: 0.0158 - acc: 0.9937 - val_loss: 0.0775 - val_acc: 0.9667\n",
      "Epoch 7/10\n",
      "120/120 [==============================] - 46s 383ms/step - loss: 0.0149 - acc: 0.9927 - val_loss: 0.0568 - val_acc: 0.9875\n",
      "Epoch 8/10\n",
      "120/120 [==============================] - 44s 368ms/step - loss: 0.0137 - acc: 0.9937 - val_loss: 0.0652 - val_acc: 0.9833\n",
      "Epoch 9/10\n",
      "120/120 [==============================] - 46s 385ms/step - loss: 0.0133 - acc: 0.9958 - val_loss: 0.0694 - val_acc: 0.9875\n",
      "Epoch 10/10\n",
      "120/120 [==============================] - 45s 379ms/step - loss: 0.0129 - acc: 0.9958 - val_loss: 0.0737 - val_acc: 0.9833\n"
     ]
    },
    {
     "data": {
      "image/png": "[encoded data removed]",
      "text/plain": [
       "<Figure size 432x288 with 1 Axes>"
      ]
     },
     "metadata": {
      "needs_background": "light"
     },
     "output_type": "display_data"
    }
   ],
   "source": [
    "history = lstm.fit(\n",
    "    train_raw_ds,\n",
    "    validation_data=test_raw_ds, \n",
    "    epochs=10\n",
    ")\n",
    "\n",
    "plt.plot(history.history['acc'], label='accuracy')\n",
    "plt.plot(history.history['val_acc'], label='val_accuracy')\n",
    "plt.xlabel('Epoch')\n",
    "plt.ylabel('Accuracy')\n",
    "plt.ylim([0.5, 1])\n",
    "plt.legend(loc='lower right')\n",
    "plt.show()"
   ]
  },
  {
   "cell_type": "code",
   "execution_count": null,
   "metadata": {},
   "outputs": [],
   "source": []
  }
 ],
 "metadata": {
  "kernelspec": {
   "display_name": "nlp",
   "language": "python",
   "name": "nlp"
  },
  "language_info": {
   "codemirror_mode": {
    "name": "ipython",
    "version": 3
   },
   "file_extension": ".py",
   "mimetype": "text/x-python",
   "name": "python",
   "nbconvert_exporter": "python",
   "pygments_lexer": "ipython3",
   "version": "3.8.1"
  }
 },
 "nbformat": 4,
 "nbformat_minor": 2
}
