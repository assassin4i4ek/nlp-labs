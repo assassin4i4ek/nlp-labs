{
 "cells": [
  {
   "cell_type": "code",
   "execution_count": 1,
   "metadata": {},
   "outputs": [],
   "source": [
    "import numpy as np\n",
    "import tensorflow as tf\n",
    "import re\n",
    "import string\n",
    "import matplotlib.pyplot as plt\n",
    "\n",
    "class CustomTextVectorizationLayer(tf.keras.layers.experimental.preprocessing.TextVectorization):\n",
    "    def __init__(self, raw_ds):\n",
    "        docs_ds = raw_ds.map(lambda x, y: x)\n",
    "        super(CustomTextVectorizationLayer, self).__init__(\n",
    "            standardize=self.standardization, \n",
    "            max_tokens=self.analyse_dataset(docs_ds) + 4\n",
    "        )\n",
    "        self.adapt(docs_ds)\n",
    "        self.vocab_size = self._max_tokens\n",
    "        print('Effective vocabulary size:', len(self.get_vocabulary()))\n",
    "    \n",
    "    def standardization(self, input_data):\n",
    "        output = tf.strings.lower(input_data, encoding='utf-8')\n",
    "        output = tf.strings.regex_replace(output, '[%s]' % re.escape(string.punctuation), '')\n",
    "        output = tf.strings.regex_replace(output, '[%s]' % (b'\\xc2\\xa0'.decode() + b'\\xe2\\xa0\\x80'.decode()), ' ')\n",
    "        return output\n",
    "    \n",
    "    def analyse_dataset(self, docs_ds):\n",
    "        words_ds = docs_ds.map(lambda document: tf.strings.split(self.standardization(document))).unbatch()\n",
    "        vocab_ds = words_ds.flat_map(tf.data.Dataset.from_tensor_slices).apply(tf.data.experimental.unique())\n",
    "        vocab_size = vocab_ds.reduce(0, lambda count, x: count + 1).numpy()\n",
    "        return vocab_size\n",
    "    \n",
    "class PositionalEncodingLayer(tf.keras.layers.Layer):\n",
    "    def __init__(self, emb_dim, max_seq_len):\n",
    "        super(PositionalEncodingLayer, self).__init__()\n",
    "        # call inputs = [batch_size, seq_len, emb_dim]\n",
    "        emb_channels = np.arange(emb_dim)[np.newaxis, :]\n",
    "        seq_positions = np.arange(max_seq_len)[:, np.newaxis]\n",
    "        angles = seq_positions * np.power(10000, 2 * (emb_channels // 2) / emb_dim)\n",
    "        enc_positions = np.ndarray(angles.shape)\n",
    "        enc_positions[:, 0::2] = np.sin(angles[:, 0::2])\n",
    "        enc_positions[:, 1::2] = np.cos(angles[:, 1::2])\n",
    "        enc_positions = enc_positions[np.newaxis, ...]\n",
    "        self.enc_positions = tf.cast(enc_positions, dtype=tf.float32)\n",
    "    \n",
    "    def call(self, inputs):\n",
    "        # inputs -> [batch_size, seq_len, emb_dim]\n",
    "        # self.enc_positions -> [1, max_seq_len, emb_dim]\n",
    "        # amplify input by sqrt(emb_dim)\n",
    "        scale = tf.cast(tf.shape(inputs)[-1], tf.float32)\n",
    "        inputs = inputs * scale \n",
    "        encoded = self.enc_positions[:, :tf.shape(inputs)[1], :]\n",
    "        return inputs + encoded\n",
    "    \n",
    "class MultiheadSelfAttentionLayer(tf.keras.layers.Layer):\n",
    "    def __init__(self, emb_dim, num_heads):\n",
    "        super(MultiheadSelfAttentionLayer, self).__init__()\n",
    "        assert emb_dim % num_heads == 0\n",
    "        self.emb_dim = emb_dim\n",
    "        self.num_heads = num_heads\n",
    "        self.proj_dim = emb_dim // num_heads\n",
    "        # Q, K, V and Z(out) linear layers\n",
    "        self.query_lin = tf.keras.layers.Dense(emb_dim)\n",
    "        self.key_lin = tf.keras.layers.Dense(emb_dim)        \n",
    "        self.value_lin = tf.keras.layers.Dense(emb_dim)\n",
    "        self.out_lin = tf.keras.layers.Dense(emb_dim)\n",
    "        \n",
    "    def call(self, inputs):\n",
    "        # inputs -> [batch_size, seq_len, emb_dim]\n",
    "        # get Q, K, V from inputs\n",
    "        query = self.query_lin(inputs)\n",
    "        key = self.key_lin(inputs)\n",
    "        value = self.value_lin(inputs)\n",
    "        # split Q, K, V between heads\n",
    "        # Q, K, V -> [batch_size, num_heads, seq_len, proj_dim]\n",
    "        query = self.head_split(query)\n",
    "        key = self.head_split(key)\n",
    "        value = self.head_split(value)\n",
    "        # compute attention\n",
    "        attention = self.attention(query, key, value)\n",
    "        # attention -> [batch_size, seq_len, emb_dim]\n",
    "        attention = self.head_concat(attention)\n",
    "        output = self.out_lin(attention)\n",
    "        return output\n",
    "        \n",
    "    def head_split(self, x):\n",
    "        # x -> [batch_size, seq_len, emb_dim]\n",
    "        # y -> [batch_size, num_heads, seq_len, proj_dim]\n",
    "        y = tf.reshape(x, (tf.shape(x)[0], -1, self.num_heads, self.proj_dim))\n",
    "        y = tf.transpose(y, perm=[0, 2, 1, 3])\n",
    "        return y\n",
    "    \n",
    "    def head_concat(self, x):\n",
    "        # x -> [batch_size, num_heads, seq_len, proj_dim]\n",
    "        # y -> [batch_size, seq_len, emb_dim]\n",
    "        y = tf.transpose(x, perm=[0, 2, 1, 3])\n",
    "        y = tf.reshape(y, (tf.shape(x)[0], -1, self.emb_dim))\n",
    "        return y\n",
    "    \n",
    "    def attention(self, query, key, value):\n",
    "        # score -> [batch_size, num_heads, seq_len, proj_dim, proj_dim]\n",
    "        score = tf.matmul(query, key, transpose_b=True)\n",
    "        scaled_score = score / tf.math.sqrt(tf.cast(self.proj_dim, dtype=tf.float32))\n",
    "        # weights -> [proj_dim]\n",
    "        weights = tf.nn.softmax(scaled_score, axis=-1)\n",
    "        # output -> [batch_size, num_heads, seq_len, proj_dim]\n",
    "        output = tf.matmul(weights, value)\n",
    "        return output\n",
    "    \n",
    "class EncoderLayer(tf.keras.layers.Layer):\n",
    "    def __init__(self, ff_dim, emb_dim, num_heads):\n",
    "        super(EncoderLayer, self).__init__()\n",
    "        self.attention_layer = MultiheadSelfAttentionLayer(emb_dim, num_heads)\n",
    "        self.feedforward_network = tf.keras.Sequential([\n",
    "            tf.keras.layers.Dense(ff_dim, activation='relu'),\n",
    "            tf.keras.layers.Dense(emb_dim)\n",
    "        ])\n",
    "        self.normalization_layer1 = tf.keras.layers.LayerNormalization(epsilon=1e-6)\n",
    "        self.normalization_layer2 = tf.keras.layers.LayerNormalization(epsilon=1e-6)\n",
    "    \n",
    "    def call(self, inputs):\n",
    "        # residual connection\n",
    "        attention_outputs = self.attention_layer(inputs)\n",
    "        attention_outputs = self.normalization_layer1(inputs + attention_outputs)\n",
    "        feedforward_outputs = self.feedforward_network(attention_outputs)\n",
    "        feedforward_outputs = self.normalization_layer2(attention_outputs + feedforward_outputs)\n",
    "        return feedforward_outputs"
   ]
  },
  {
   "cell_type": "code",
   "execution_count": 2,
   "metadata": {},
   "outputs": [
    {
     "name": "stdout",
     "output_type": "stream",
     "text": [
      "Found 1200 files belonging to 3 classes.\n",
      "Using 960 files for training.\n",
      "Found 1200 files belonging to 3 classes.\n",
      "Using 240 files for validation.\n",
      "Effective vocabulary size: 20734\n"
     ]
    }
   ],
   "source": [
    "train_raw_ds = tf.keras.preprocessing.text_dataset_from_directory(\n",
    "    directory='./data',\n",
    "    validation_split=0.2, \n",
    "    subset='training',\n",
    "    batch_size=8,\n",
    "    shuffle=True,\n",
    "    seed=123\n",
    ")\n",
    "test_raw_ds = tf.keras.preprocessing.text_dataset_from_directory(\n",
    "    directory='./data',\n",
    "    validation_split=0.2, \n",
    "    subset='validation',\n",
    "    batch_size=8,\n",
    "    shuffle=True,\n",
    "    seed=123\n",
    ")\n",
    "\n",
    "text_vectorization = CustomTextVectorizationLayer(train_raw_ds)"
   ]
  },
  {
   "cell_type": "code",
   "execution_count": 5,
   "metadata": {},
   "outputs": [
    {
     "name": "stdout",
     "output_type": "stream",
     "text": [
      "Model: \"sequential_3\"\n",
      "_________________________________________________________________\n",
      "Layer (type)                 Output Shape              Param #   \n",
      "=================================================================\n",
      "custom_text_vectorization_la (None, None)              0         \n",
      "_________________________________________________________________\n",
      "embedding_1 (Embedding)      (None, None, 128)         2654208   \n",
      "_________________________________________________________________\n",
      "positional_encoding_layer_1  (None, None, 128)         0         \n",
      "_________________________________________________________________\n",
      "encoder_layer_1 (EncoderLaye (None, None, 128)         99584     \n",
      "_________________________________________________________________\n",
      "global_average_pooling1d_1 ( (None, 128)               0         \n",
      "_________________________________________________________________\n",
      "dense_14 (Dense)             (None, 128)               16512     \n",
      "_________________________________________________________________\n",
      "dense_15 (Dense)             (None, 3)                 387       \n",
      "=================================================================\n",
      "Total params: 2,770,691\n",
      "Trainable params: 2,770,691\n",
      "Non-trainable params: 0\n",
      "_________________________________________________________________\n"
     ]
    }
   ],
   "source": [
    "# Global parameters\n",
    "emb_dim = 128\n",
    "max_seq_len = 10000\n",
    "num_heads = 4\n",
    "ff_dim = 128\n",
    "\n",
    "model = tf.keras.Sequential([\n",
    "    tf.keras.Input(shape=(1,), dtype=tf.string),\n",
    "    text_vectorization,\n",
    "    tf.keras.layers.Embedding(text_vectorization.vocab_size, emb_dim),\n",
    "    PositionalEncodingLayer(emb_dim, max_seq_len),\n",
    "    EncoderLayer(ff_dim, emb_dim, num_heads),\n",
    "    tf.keras.layers.GlobalAveragePooling1D(),\n",
    "    tf.keras.layers.Dense(emb_dim, activation='relu'),\n",
    "    tf.keras.layers.Dense(3, activation='softmax')\n",
    "])\n",
    "\n",
    "model.summary()\n",
    "model.compile(\n",
    "    optimizer='adam',\n",
    "    loss='sparse_categorical_crossentropy',\n",
    "    metrics=['acc']\n",
    ")"
   ]
  },
  {
   "cell_type": "code",
   "execution_count": 6,
   "metadata": {},
   "outputs": [
    {
     "name": "stdout",
     "output_type": "stream",
     "text": [
      "Epoch 1/6\n",
      "120/120 [==============================] - 44s 369ms/step - loss: 0.4053 - acc: 0.8281 - val_loss: 0.1676 - val_acc: 0.9292\n",
      "Epoch 2/6\n",
      "120/120 [==============================] - 42s 349ms/step - loss: 0.1153 - acc: 0.9625 - val_loss: 0.0597 - val_acc: 0.9875\n",
      "Epoch 3/6\n",
      "120/120 [==============================] - 42s 347ms/step - loss: 0.0382 - acc: 0.9865 - val_loss: 0.0847 - val_acc: 0.9750\n",
      "Epoch 4/6\n",
      "120/120 [==============================] - 42s 352ms/step - loss: 0.0308 - acc: 0.9917 - val_loss: 0.0807 - val_acc: 0.9792\n",
      "Epoch 5/6\n",
      "120/120 [==============================] - 45s 376ms/step - loss: 0.0179 - acc: 0.9927 - val_loss: 0.0837 - val_acc: 0.9833\n",
      "Epoch 6/6\n",
      "120/120 [==============================] - 43s 358ms/step - loss: 0.0159 - acc: 0.9906 - val_loss: 0.0753 - val_acc: 0.9750\n"
     ]
    },
    {
     "data": {
      "image/png": "[encoded data removed]",
      "text/plain": [
       "<Figure size 432x288 with 1 Axes>"
      ]
     },
     "metadata": {
      "needs_background": "light"
     },
     "output_type": "display_data"
    }
   ],
   "source": [
    "history = model.fit(\n",
    "    train_raw_ds,\n",
    "    validation_data=test_raw_ds, \n",
    "    epochs=4)\n",
    "\n",
    "plt.plot(history.history['acc'], label='accuracy')\n",
    "plt.plot(history.history['val_acc'], label='val_accuracy')\n",
    "plt.xlabel('Epoch')\n",
    "plt.ylabel('Accuracy')\n",
    "plt.ylim([0.5, 1])\n",
    "plt.legend(loc='lower right')\n",
    "plt.show()"
   ]
  },
  {
   "cell_type": "code",
   "execution_count": 7,
   "metadata": {},
   "outputs": [
    {
     "name": "stdout",
     "output_type": "stream",
     "text": [
      "Model: \"sequential_5\"\n",
      "_________________________________________________________________\n",
      "Layer (type)                 Output Shape              Param #   \n",
      "=================================================================\n",
      "custom_text_vectorization_la (None, None)              0         \n",
      "_________________________________________________________________\n",
      "embedding_2 (Embedding)      (None, None, 64)          1327104   \n",
      "_________________________________________________________________\n",
      "positional_encoding_layer_2  (None, None, 64)          0         \n",
      "_________________________________________________________________\n",
      "encoder_layer_2 (EncoderLaye (None, None, 64)          25216     \n",
      "_________________________________________________________________\n",
      "global_average_pooling1d_2 ( (None, 64)                0         \n",
      "_________________________________________________________________\n",
      "dense_22 (Dense)             (None, 64)                4160      \n",
      "_________________________________________________________________\n",
      "dense_23 (Dense)             (None, 3)                 195       \n",
      "=================================================================\n",
      "Total params: 1,356,675\n",
      "Trainable params: 1,356,675\n",
      "Non-trainable params: 0\n",
      "_________________________________________________________________\n",
      "Epoch 1/4\n",
      "120/120 [==============================] - 30s 250ms/step - loss: 0.3482 - acc: 0.8698 - val_loss: 0.1095 - val_acc: 0.9542\n",
      "Epoch 2/4\n",
      "120/120 [==============================] - 32s 265ms/step - loss: 0.0541 - acc: 0.9833 - val_loss: 0.1078 - val_acc: 0.9458\n",
      "Epoch 3/4\n",
      "120/120 [==============================] - 32s 264ms/step - loss: 0.0238 - acc: 0.9917 - val_loss: 0.1501 - val_acc: 0.9333\n",
      "Epoch 4/4\n",
      "120/120 [==============================] - 33s 277ms/step - loss: 0.0174 - acc: 0.9958 - val_loss: 0.0743 - val_acc: 0.9750\n"
     ]
    },
    {
     "data": {
      "image/png": "[encoded data removed]",
      "text/plain": [
       "<Figure size 432x288 with 1 Axes>"
      ]
     },
     "metadata": {
      "needs_background": "light"
     },
     "output_type": "display_data"
    }
   ],
   "source": [
    "# Global parameters\n",
    "emb_dim = 64\n",
    "max_seq_len = 10000\n",
    "num_heads = 4\n",
    "ff_dim = 64\n",
    "\n",
    "model = tf.keras.Sequential([\n",
    "    tf.keras.Input(shape=(1,), dtype=tf.string),\n",
    "    text_vectorization,\n",
    "    tf.keras.layers.Embedding(text_vectorization.vocab_size, emb_dim),\n",
    "    PositionalEncodingLayer(emb_dim, max_seq_len),\n",
    "    EncoderLayer(ff_dim, emb_dim, num_heads),\n",
    "    tf.keras.layers.GlobalAveragePooling1D(),\n",
    "    tf.keras.layers.Dense(emb_dim, activation='relu'),\n",
    "    tf.keras.layers.Dense(3, activation='softmax')\n",
    "])\n",
    "\n",
    "model.summary()\n",
    "model.compile(\n",
    "    optimizer='adam',\n",
    "    loss='sparse_categorical_crossentropy',\n",
    "    metrics=['acc']\n",
    ")\n",
    "\n",
    "history = model.fit(\n",
    "    train_raw_ds,\n",
    "    validation_data=test_raw_ds, \n",
    "    epochs=4)\n",
    "\n",
    "plt.plot(history.history['acc'], label='accuracy')\n",
    "plt.plot(history.history['val_acc'], label='val_accuracy')\n",
    "plt.xlabel('Epoch')\n",
    "plt.ylabel('Accuracy')\n",
    "plt.ylim([0.5, 1])\n",
    "plt.legend(loc='lower right')\n",
    "plt.show()"
   ]
  },
  {
   "cell_type": "code",
   "execution_count": 8,
   "metadata": {},
   "outputs": [
    {
     "name": "stdout",
     "output_type": "stream",
     "text": [
      "Model: \"sequential_8\"\n",
      "_________________________________________________________________\n",
      "Layer (type)                 Output Shape              Param #   \n",
      "=================================================================\n",
      "custom_text_vectorization_la (None, None)              0         \n",
      "_________________________________________________________________\n",
      "embedding_3 (Embedding)      (None, None, 64)          1327104   \n",
      "_________________________________________________________________\n",
      "positional_encoding_layer_3  (None, None, 64)          0         \n",
      "_________________________________________________________________\n",
      "encoder_layer_3 (EncoderLaye (None, None, 64)          25216     \n",
      "_________________________________________________________________\n",
      "encoder_layer_4 (EncoderLaye (None, None, 64)          25216     \n",
      "_________________________________________________________________\n",
      "global_average_pooling1d_3 ( (None, 64)                0         \n",
      "_________________________________________________________________\n",
      "dense_36 (Dense)             (None, 64)                4160      \n",
      "_________________________________________________________________\n",
      "dense_37 (Dense)             (None, 3)                 195       \n",
      "=================================================================\n",
      "Total params: 1,381,891\n",
      "Trainable params: 1,381,891\n",
      "Non-trainable params: 0\n",
      "_________________________________________________________________\n",
      "Epoch 1/4\n",
      "120/120 [==============================] - 63s 529ms/step - loss: 0.3204 - acc: 0.8698 - val_loss: 0.1268 - val_acc: 0.9417\n",
      "Epoch 2/4\n",
      "120/120 [==============================] - 56s 464ms/step - loss: 0.0476 - acc: 0.9844 - val_loss: 0.0615 - val_acc: 0.9708\n",
      "Epoch 3/4\n",
      "120/120 [==============================] - 61s 510ms/step - loss: 0.0266 - acc: 0.9885 - val_loss: 0.0710 - val_acc: 0.9708\n",
      "Epoch 4/4\n",
      "120/120 [==============================] - 59s 490ms/step - loss: 0.0238 - acc: 0.9896 - val_loss: 0.0688 - val_acc: 0.9792\n"
     ]
    },
    {
     "data": {
      "image/png": "[encoded data removed]",
      "text/plain": [
       "<Figure size 432x288 with 1 Axes>"
      ]
     },
     "metadata": {
      "needs_background": "light"
     },
     "output_type": "display_data"
    }
   ],
   "source": [
    "# Global parameters\n",
    "emb_dim = 64\n",
    "max_seq_len = 10000\n",
    "num_heads = 4\n",
    "ff_dim = 64\n",
    "\n",
    "model = tf.keras.Sequential([\n",
    "    tf.keras.Input(shape=(1,), dtype=tf.string),\n",
    "    text_vectorization,\n",
    "    tf.keras.layers.Embedding(text_vectorization.vocab_size, emb_dim),\n",
    "    PositionalEncodingLayer(emb_dim, max_seq_len),\n",
    "    EncoderLayer(ff_dim, emb_dim, num_heads),\n",
    "    EncoderLayer(ff_dim, emb_dim, num_heads),\n",
    "    tf.keras.layers.GlobalAveragePooling1D(),\n",
    "    tf.keras.layers.Dense(emb_dim, activation='relu'),\n",
    "    tf.keras.layers.Dense(3, activation='softmax')\n",
    "])\n",
    "\n",
    "model.summary()\n",
    "model.compile(\n",
    "    optimizer='adam',\n",
    "    loss='sparse_categorical_crossentropy',\n",
    "    metrics=['acc']\n",
    ")\n",
    "\n",
    "history = model.fit(\n",
    "    train_raw_ds,\n",
    "    validation_data=test_raw_ds, \n",
    "    epochs=4)\n",
    "\n",
    "plt.plot(history.history['acc'], label='accuracy')\n",
    "plt.plot(history.history['val_acc'], label='val_accuracy')\n",
    "plt.xlabel('Epoch')\n",
    "plt.ylabel('Accuracy')\n",
    "plt.ylim([0.5, 1])\n",
    "plt.legend(loc='lower right')\n",
    "plt.show()"
   ]
  },
  {
   "cell_type": "code",
   "execution_count": 9,
   "metadata": {},
   "outputs": [
    {
     "name": "stdout",
     "output_type": "stream",
     "text": [
      "Model: \"sequential_11\"\n",
      "_________________________________________________________________\n",
      "Layer (type)                 Output Shape              Param #   \n",
      "=================================================================\n",
      "custom_text_vectorization_la (None, None)              0         \n",
      "_________________________________________________________________\n",
      "embedding_4 (Embedding)      (None, None, 128)         2654208   \n",
      "_________________________________________________________________\n",
      "positional_encoding_layer_4  (None, None, 128)         0         \n",
      "_________________________________________________________________\n",
      "encoder_layer_5 (EncoderLaye (None, None, 128)         99584     \n",
      "_________________________________________________________________\n",
      "encoder_layer_6 (EncoderLaye (None, None, 128)         99584     \n",
      "_________________________________________________________________\n",
      "global_average_pooling1d_4 ( (None, 128)               0         \n",
      "_________________________________________________________________\n",
      "dense_50 (Dense)             (None, 128)               16512     \n",
      "_________________________________________________________________\n",
      "dense_51 (Dense)             (None, 3)                 387       \n",
      "=================================================================\n",
      "Total params: 2,870,275\n",
      "Trainable params: 2,870,275\n",
      "Non-trainable params: 0\n",
      "_________________________________________________________________\n",
      "Epoch 1/4\n",
      "120/120 [==============================] - 78s 648ms/step - loss: 0.4855 - acc: 0.7917 - val_loss: 0.1397 - val_acc: 0.9375\n",
      "Epoch 2/4\n",
      "120/120 [==============================] - 80s 665ms/step - loss: 0.0470 - acc: 0.9823 - val_loss: 0.2301 - val_acc: 0.9208\n",
      "Epoch 3/4\n",
      "120/120 [==============================] - 84s 698ms/step - loss: 0.0223 - acc: 0.9906 - val_loss: 0.0605 - val_acc: 0.9833\n",
      "Epoch 4/4\n",
      "120/120 [==============================] - 88s 731ms/step - loss: 0.0150 - acc: 0.9927 - val_loss: 0.0532 - val_acc: 0.9917\n"
     ]
    },
    {
     "data": {
      "image/png": "[encoded data removed]",
      "text/plain": [
       "<Figure size 432x288 with 1 Axes>"
      ]
     },
     "metadata": {
      "needs_background": "light"
     },
     "output_type": "display_data"
    }
   ],
   "source": [
    "# Global parameters\n",
    "emb_dim = 128\n",
    "max_seq_len = 10000\n",
    "num_heads = 4\n",
    "ff_dim = 128\n",
    "\n",
    "model = tf.keras.Sequential([\n",
    "    tf.keras.Input(shape=(1,), dtype=tf.string),\n",
    "    text_vectorization,\n",
    "    tf.keras.layers.Embedding(text_vectorization.vocab_size, emb_dim),\n",
    "    PositionalEncodingLayer(emb_dim, max_seq_len),\n",
    "    EncoderLayer(ff_dim, emb_dim, num_heads),\n",
    "    EncoderLayer(ff_dim, emb_dim, num_heads),\n",
    "    tf.keras.layers.GlobalAveragePooling1D(),\n",
    "    tf.keras.layers.Dense(emb_dim, activation='relu'),\n",
    "    tf.keras.layers.Dense(3, activation='softmax')\n",
    "])\n",
    "\n",
    "model.summary()\n",
    "model.compile(\n",
    "    optimizer='adam',\n",
    "    loss='sparse_categorical_crossentropy',\n",
    "    metrics=['acc']\n",
    ")\n",
    "\n",
    "history = model.fit(\n",
    "    train_raw_ds,\n",
    "    validation_data=test_raw_ds, \n",
    "    epochs=4)\n",
    "\n",
    "plt.plot(history.history['acc'], label='accuracy')\n",
    "plt.plot(history.history['val_acc'], label='val_accuracy')\n",
    "plt.xlabel('Epoch')\n",
    "plt.ylabel('Accuracy')\n",
    "plt.ylim([0.5, 1])\n",
    "plt.legend(loc='lower right')\n",
    "plt.show()"
   ]
  },
  {
   "cell_type": "code",
   "execution_count": 11,
   "metadata": {},
   "outputs": [
    {
     "name": "stdout",
     "output_type": "stream",
     "text": [
      "120/120 [==============================] - 84s 702ms/step - loss: 0.0134 - acc: 0.9937 - val_loss: 0.0557 - val_acc: 0.9875\n"
     ]
    },
    {
     "data": {
      "text/plain": [
       "<tensorflow.python.keras.callbacks.History at 0x1c28dbfa9d0>"
      ]
     },
     "execution_count": 11,
     "metadata": {},
     "output_type": "execute_result"
    }
   ],
   "source": [
    "model.fit(\n",
    "    train_raw_ds,\n",
    "    validation_data=test_raw_ds, \n",
    "    epochs=1)"
   ]
  },
  {
   "cell_type": "code",
   "execution_count": null,
   "metadata": {},
   "outputs": [],
   "source": []
  }
 ],
 "metadata": {
  "kernelspec": {
   "display_name": "nlp",
   "language": "python",
   "name": "nlp"
  },
  "language_info": {
   "codemirror_mode": {
    "name": "ipython",
    "version": 3
   },
   "file_extension": ".py",
   "mimetype": "text/x-python",
   "name": "python",
   "nbconvert_exporter": "python",
   "pygments_lexer": "ipython3",
   "version": "3.8.1"
  }
 },
 "nbformat": 4,
 "nbformat_minor": 2
}
